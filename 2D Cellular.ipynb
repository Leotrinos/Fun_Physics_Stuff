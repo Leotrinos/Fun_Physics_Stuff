{
 "cells": [
  {
   "cell_type": "code",
   "execution_count": 1,
   "metadata": {
    "collapsed": false
   },
   "outputs": [],
   "source": [
    "import numpy as np\n",
    "import matplotlib.pyplot as pt\n",
    "import matplotlib.animation as an"
   ]
  },
  {
   "cell_type": "code",
   "execution_count": null,
   "metadata": {
    "collapsed": false
   },
   "outputs": [],
   "source": []
  },
  {
   "cell_type": "code",
   "execution_count": null,
   "metadata": {
    "collapsed": false
   },
   "outputs": [],
   "source": []
  },
  {
   "cell_type": "code",
   "execution_count": 14,
   "metadata": {
    "collapsed": false
   },
   "outputs": [],
   "source": [
    "### Conway's rule\n",
    "\n",
    "fig = pt.figure()\n",
    "n=200\n",
    "\n",
    "board=np.zeros((n,n))\n",
    "# for i in range(50,55):\n",
    "#     for j in range(45,50):\n",
    "#         board[i,j],=np.random.randint(2, size=1)\n",
    "for j in range(0,n):\n",
    "    board[n//2,j]=1\n",
    "    board[n//3,j]=1\n",
    "\n",
    "\n",
    "## glider \n",
    "# board[50,51]=1\n",
    "# board[51,50]=1\n",
    "# board[49,49]=1\n",
    "# board[50,49]=1\n",
    "# board[51,49]=1\n",
    "\n",
    "step=0\n",
    "def updatefig(*arg):\n",
    "    global step\n",
    "    step+=1\n",
    "    \n",
    "    global board\n",
    "    new = board.copy()\n",
    "    board=np.zeros((n,n))\n",
    "    for i in range(0,n):\n",
    "        for j in range(0,n):\n",
    "            if i+1<n and i-1>0 and j+1<n and j-1>0:\n",
    "                tmp=new[i+1,j]+new[i-1,j]+new[i+1,j+1]+new[i-1,j+1]+new[i+1,j-1]+new[i-1,j-1]+new[i,j+1]+new[i,j-1]\n",
    "                if new[i,j]==1:\n",
    "                    if tmp<2 or tmp >3:\n",
    "                        board[i,j]=0\n",
    "                    elif 2<=tmp<=3:\n",
    "                        board[i,j]=1\n",
    "                elif new[i,j]==0:\n",
    "                    if tmp==3:\n",
    "                        board[i,j]=1\n",
    "    im.set_array(board)\n",
    "    pt.title('step = '+str(step))\n",
    "    return im,\n",
    "\n",
    "im = pt.imshow(board,cmap='binary',interpolation='nearest',animated=True)\n",
    "# pt.colorbar()\n",
    "\n",
    "ani = an.FuncAnimation(fig, updatefig, frames=1000, interval=100, blit=False,repeat=False)\n",
    "pt.show()"
   ]
  },
  {
   "cell_type": "code",
   "execution_count": 2,
   "metadata": {
    "collapsed": false
   },
   "outputs": [],
   "source": [
    "### My rule\n",
    "\n",
    "fig = pt.figure()\n",
    "n=200\n",
    "\n",
    "board=np.zeros((n,n))\n",
    "for i in range(50,55):\n",
    "    for j in range(45,50):\n",
    "        board[i,j],=np.random.randint(2, size=1)\n",
    "\n",
    "\n",
    "step=0\n",
    "def updatefig(*arg):\n",
    "    global step\n",
    "    step+=1\n",
    "    \n",
    "    global board\n",
    "    new = board.copy()\n",
    "    board=np.zeros((n,n))\n",
    "    for i in range(0,n):\n",
    "        for j in range(0,n):\n",
    "            if i+1<n and i-1>0 and j+1<n and j-1>0:\n",
    "                tmp=new[i+1,j]+new[i-1,j]+new[i+1,j+1]+new[i-1,j+1]+new[i+1,j-1]+new[i-1,j-1]+new[i,j+1]+new[i,j-1]\n",
    "                if new[i,j]==1:\n",
    "                    if tmp >=4:\n",
    "                        board[i,j]=0\n",
    "                    elif 0<=tmp<=3:\n",
    "                        board[i,j]=1\n",
    "                elif new[i,j]==0:\n",
    "                    if tmp==3:\n",
    "                        board[i,j]=1\n",
    "                        \n",
    "                        \n",
    "    im.set_array(board)\n",
    "    pt.title('step = '+str(step))\n",
    "    return im,\n",
    "\n",
    "im = pt.imshow(board,cmap='binary',interpolation='nearest',animated=True)\n",
    "# pt.colorbar()\n",
    "\n",
    "ani = an.FuncAnimation(fig, updatefig, frames=1000, interval=100, blit=False,repeat=False)\n",
    "pt.show()"
   ]
  },
  {
   "cell_type": "code",
   "execution_count": 251,
   "metadata": {
    "collapsed": false
   },
   "outputs": [],
   "source": []
  },
  {
   "cell_type": "code",
   "execution_count": null,
   "metadata": {
    "collapsed": false
   },
   "outputs": [],
   "source": []
  },
  {
   "cell_type": "code",
   "execution_count": null,
   "metadata": {
    "collapsed": true
   },
   "outputs": [],
   "source": []
  },
  {
   "cell_type": "code",
   "execution_count": null,
   "metadata": {
    "collapsed": false
   },
   "outputs": [],
   "source": []
  },
  {
   "cell_type": "code",
   "execution_count": 275,
   "metadata": {
    "collapsed": false
   },
   "outputs": [],
   "source": []
  },
  {
   "cell_type": "code",
   "execution_count": null,
   "metadata": {
    "collapsed": false
   },
   "outputs": [],
   "source": []
  },
  {
   "cell_type": "code",
   "execution_count": null,
   "metadata": {
    "collapsed": false
   },
   "outputs": [],
   "source": []
  },
  {
   "cell_type": "code",
   "execution_count": null,
   "metadata": {
    "collapsed": true
   },
   "outputs": [],
   "source": []
  }
 ],
 "metadata": {
  "kernelspec": {
   "display_name": "Python 3",
   "language": "python",
   "name": "python3"
  },
  "language_info": {
   "codemirror_mode": {
    "name": "ipython",
    "version": 3
   },
   "file_extension": ".py",
   "mimetype": "text/x-python",
   "name": "python",
   "nbconvert_exporter": "python",
   "pygments_lexer": "ipython3",
   "version": "3.5.1"
  }
 },
 "nbformat": 4,
 "nbformat_minor": 0
}
